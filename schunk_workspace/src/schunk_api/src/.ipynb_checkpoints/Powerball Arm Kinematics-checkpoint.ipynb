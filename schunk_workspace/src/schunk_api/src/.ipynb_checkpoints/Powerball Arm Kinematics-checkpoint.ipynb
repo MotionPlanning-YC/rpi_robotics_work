{
 "metadata": {
  "name": ""
 },
 "nbformat": 3,
 "nbformat_minor": 0,
 "worksheets": [
  {
   "cells": [
    {
     "cell_type": "code",
     "collapsed": false,
     "input": [
      "import numpy as np\n",
      "import math\n",
      "import kinematic_functions as kf\n",
      "from powerball_constants import *"
     ],
     "language": "python",
     "metadata": {},
     "outputs": [],
     "prompt_number": 25
    },
    {
     "cell_type": "code",
     "collapsed": false,
     "input": [
      "jointAngles = [0.5, 0.5, 0.5, 0.5, 0.5, 0.5]"
     ],
     "language": "python",
     "metadata": {},
     "outputs": [],
     "prompt_number": 26
    },
    {
     "cell_type": "code",
     "collapsed": false,
     "input": [
      "R01 = kf.rot3D(JOINT_1_ROTATION_AXIS, jointAngles[0])\n",
      "R12 = kf.rot3D(JOINT_2_ROTATION_AXIS, jointAngles[1])\n",
      "R23 = kf.rot3D(JOINT_3_ROTATION_AXIS, jointAngles[2])\n",
      "R34 = kf.rot3D(JOINT_4_ROTATION_AXIS, jointAngles[3])\n",
      "R45 = kf.rot3D(JOINT_5_ROTATION_AXIS, jointAngles[4])\n",
      "R56 = kf.rot3D(JOINT_6_ROTATION_AXIS, jointAngles[5])"
     ],
     "language": "python",
     "metadata": {},
     "outputs": [],
     "prompt_number": 27
    },
    {
     "cell_type": "code",
     "collapsed": false,
     "input": [
      "H01 = np.matrix([ [R01[0, 0], R01[0, 1], R01[0, 2], P01[0, 0]], \\\n",
      "                  [R01[1, 0], R01[1, 1], R01[1, 2], P01[1, 0]], \\\n",
      "                  [R01[2, 0], R01[2, 1], R01[2, 2], P01[2, 0]], \\\n",
      "                  [0, 0, 0, 1] ])\n",
      "H12 = np.matrix([ [R12[0, 0], R12[0, 1], R12[0, 2], P12[0, 0]], \\\n",
      "                  [R12[1, 0], R12[1, 1], R12[1, 2], P12[1, 0]], \\\n",
      "                  [R12[2, 0], R12[2, 1], R12[2, 2], P12[2, 0]], \\\n",
      "                  [0, 0, 0, 1] ])\n",
      "H23 = np.matrix([ [R23[0, 0], R23[0, 1], R23[0, 2], P23[0, 0]], \\\n",
      "                  [R23[1, 0], R23[1, 1], R23[1, 2], P23[1, 0]], \\\n",
      "                  [R23[2, 0], R23[2, 1], R23[2, 2], P23[2, 0]], \\\n",
      "                  [0, 0, 0, 1] ])\n",
      "H34 = np.matrix([ [R34[0, 0], R34[0, 1], R34[0, 2], P34[0, 0]], \\\n",
      "                  [R34[1, 0], R34[1, 1], R34[1, 2], P34[1, 0]], \\\n",
      "                  [R34[2, 0], R34[2, 1], R34[2, 2], P34[2, 0]], \\\n",
      "                  [0, 0, 0, 1] ])\n",
      "H45 = np.matrix([ [R45[0, 0], R45[0, 1], R45[0, 2], P45[0, 0]], \\\n",
      "                  [R45[1, 0], R45[1, 1], R45[1, 2], P45[1, 0]], \\\n",
      "                  [R45[2, 0], R45[2, 1], R45[2, 2], P45[2, 0]], \\\n",
      "                  [0, 0, 0, 1] ])\n",
      "H56 = np.matrix([ [R56[0, 0], R56[0, 1], R56[0, 2], P56[0, 0]], \\\n",
      "                  [R56[1, 0], R56[1, 1], R56[1, 2], P56[1, 0]], \\\n",
      "                  [R56[2, 0], R56[2, 1], R56[2, 2], P56[2, 0]], \\\n",
      "                  [0, 0, 0, 1] ])\n",
      "H06 = H01*H12*H23*H34*H45*H56"
     ],
     "language": "python",
     "metadata": {},
     "outputs": [],
     "prompt_number": 28
    },
    {
     "cell_type": "code",
     "collapsed": false,
     "input": [
      "p = np.array([[1, 1, 1]]).T\n",
      "k1 = np.array([[-0.8, 0.0, 0.6]]).T\n",
      "k2 = np.array([[0.6, -0.8, 0.0]]).T\n",
      "q1 = (kf.rot3D(k1, math.pi/4)*p).A1\n",
      "q1 = np.array([[q1[0], q1[1], q1[2]]]).T\n",
      "q2 = (kf.rot3D(k1, -math.pi/3)*kf.rot3D(k2, math.pi/4)*p).A1\n",
      "q2 = np.array([[q2[0], q2[1], q2[2]]]).T"
     ],
     "language": "python",
     "metadata": {},
     "outputs": [],
     "prompt_number": 42
    },
    {
     "cell_type": "code",
     "collapsed": false,
     "input": [
      "# Forward Kinematics Test:\n",
      "reload(kf)\n",
      "rotFK, transFK = kf.fkine(jointAngles)\n",
      "print(\"rotFK: \" + str(rotFK))\n",
      "print(\"transFK: \" + str(transFK))"
     ],
     "language": "python",
     "metadata": {},
     "outputs": [
      {
       "output_type": "stream",
       "stream": "stdout",
       "text": [
        "q1: 0.5\n",
        "q2: 0.5\n",
        "q3: 0.5\n",
        "q4: 0.5\n",
        "q5: 0.5\n",
        "q6: 0.5\n",
        "R01: \n",
        "[[ 0.87758256 -0.47942554  0.        ]\n",
        " [ 0.47942554  0.87758256  0.        ]\n",
        " [ 0.          0.          1.        ]]\n",
        "R12: \n",
        "[[ 0.87758256  0.          0.47942554]\n",
        " [ 0.          1.          0.        ]\n",
        " [-0.47942554  0.          0.87758256]]\n",
        "R23: \n",
        "[[ 0.87758256  0.         -0.47942554]\n",
        " [ 0.          1.          0.        ]\n",
        " [ 0.47942554  0.          0.87758256]]\n",
        "R34: \n",
        "[[ 0.87758256 -0.47942554  0.        ]\n",
        " [ 0.47942554  0.87758256  0.        ]\n",
        " [ 0.          0.          1.        ]]\n",
        "R45: \n",
        "[[ 0.87758256  0.         -0.47942554]\n",
        " [ 0.          1.          0.        ]\n",
        " [ 0.47942554  0.          0.87758256]]\n",
        "R56: \n",
        "[[ 0.87758256 -0.47942554  0.        ]\n",
        " [ 0.47942554  0.87758256  0.        ]\n",
        " [ 0.          0.          1.        ]]\n",
        "R02: \n",
        "[[ 0.77015115 -0.47942554  0.42073549]\n",
        " [ 0.42073549  0.87758256  0.22984885]\n",
        " [-0.47942554  0.          0.87758256]]\n",
        "R03: \n",
        "[[ 0.87758256 -0.47942554  0.        ]\n",
        " [ 0.47942554  0.87758256  0.        ]\n",
        " [ 0.          0.          1.        ]]\n",
        "R04: \n",
        "[[ 0.54030231 -0.84147098  0.        ]\n",
        " [ 0.84147098  0.54030231  0.        ]\n",
        " [ 0.          0.          1.        ]]\n",
        "R05: \n",
        "[[ 0.47415988 -0.84147098 -0.25903472]\n",
        " [ 0.73846026  0.54030231 -0.40342268]\n",
        " [ 0.47942554  0.          0.87758256]]\n",
        "R06: \n",
        "[[ 0.01269176 -0.96578462 -0.25903472]\n",
        " [ 0.90709457  0.12012317 -0.40342268]\n",
        " [ 0.42073549 -0.22984885  0.87758256]]\n",
        "rotFK: 3.0\n",
        "transFK: [14.725742234138188, 8.044709647307554, 81.71538966616305]\n"
       ]
      }
     ],
     "prompt_number": 34
    },
    {
     "cell_type": "code",
     "collapsed": false,
     "input": [
      "# Subproblem 1 Test - PASSED\n",
      "# Should return pi/4 as answer:\n",
      "reload(kf)\n",
      "kf.subproblem1(p, q1, k1)"
     ],
     "language": "python",
     "metadata": {},
     "outputs": [
      {
       "output_type": "stream",
       "stream": "stdout",
       "text": [
        "normP: [[ 0.57735027]\n",
        " [ 0.57735027]\n",
        " [ 0.57735027]]\n",
        "normQ: [[ 0.19035563]\n",
        " [ 0.9797959 ]\n",
        " [ 0.06135742]]\n",
        "normK: [[-0.8]\n",
        " [ 0. ]\n",
        " [ 0.6]]\n"
       ]
      },
      {
       "metadata": {},
       "output_type": "pyout",
       "prompt_number": 43,
       "text": [
        "0.7853981633974483"
       ]
      }
     ],
     "prompt_number": 43
    },
    {
     "cell_type": "code",
     "collapsed": false,
     "input": [
      "# Subproblem 2 Test\n",
      "# Should return \n",
      "reload(kf)\n",
      "theta1, theta2 = kf.subproblem2(p, q2, k1, k2)\n",
      "print(\"theta1: \" + str(theta1))\n",
      "print(\"theta2: \" + str(theta2))"
     ],
     "language": "python",
     "metadata": {},
     "outputs": [
      {
       "output_type": "stream",
       "stream": "stdout",
       "text": [
        "p: [[1]\n",
        " [1]\n",
        " [1]]\n",
        "q: [[-0.14882862]\n",
        " [-1.06612394]\n",
        " [ 1.35691923]]\n",
        "k1: [[-0.8]\n",
        " [ 0. ]\n",
        " [ 0.6]]\n",
        "k2: [[ 0.6]\n",
        " [-0.8]\n",
        " [ 0. ]]\n",
        "k12: -0.48\n",
        "pk: -0.2\n",
        "qk: 0.933214428925\n",
        "a: [[ 1.08785659]\n",
        " [ 0.32217116]]\n",
        "bb: 2.04923076923\n",
        "gamma: 1.63178487966\n",
        "normP: [[ 0.57735027]\n",
        " [ 0.57735027]\n",
        " [ 0.57735027]]\n",
        "normQ: [[ 0.06135742]\n",
        " [ 0.19035563]\n",
        " [ 0.9797959 ]]\n",
        "normK: [[ 0.6]\n",
        " [-0.8]\n",
        " [ 0. ]]\n",
        "pPrime: [[ 0.6466323 ]\n",
        " [ 0.48497423]\n",
        " [ 0.57735027]]\n",
        "qPrime: [[ 0.13063945]\n",
        " [ 0.09797959]\n",
        " [ 0.9797959 ]]\n",
        "normP: [[ 0.57735027]\n",
        " [ 0.57735027]\n",
        " [ 0.57735027]]\n",
        "normQ: [[-0.84306956]\n",
        " [-0.4879646 ]\n",
        " [-0.22610675]]\n",
        "normK: [[ 0.6]\n",
        " [-0.8]\n",
        " [ 0. ]]\n",
        "pPrime: [[ 0.6466323 ]\n",
        " [ 0.48497423]\n",
        " [ 0.57735027]]\n",
        "qPrime: [[-0.77378753]\n",
        " [-0.58034065]\n",
        " [-0.22610675]]\n",
        "normP: [[-0.08592624]\n",
        " [-0.61552694]\n",
        " [ 0.78341768]]\n",
        "normQ: [[ 0.06135742]\n",
        " [ 0.19035563]\n",
        " [ 0.9797959 ]]\n",
        "normK: [[-0.8]\n",
        " [ 0. ]\n",
        " [ 0.6]]\n",
        "pPrime: [[ 0.34510704]\n",
        " [-0.61552694]\n",
        " [ 0.46014272]]\n",
        "qPrime: [[ 0.4923907 ]\n",
        " [ 0.19035563]\n",
        " [ 0.65652094]]\n",
        "normP: [[-0.08592624]\n",
        " [-0.61552694]\n",
        " [ 0.78341768]]\n",
        "normQ: [[-0.84306956]\n",
        " [-0.4879646 ]\n",
        " [-0.22610675]]\n",
        "normK: [[-0.8]\n",
        " [ 0. ]\n",
        " [ 0.6]]\n",
        "pPrime: [[ 0.34510704]\n",
        " [-0.61552694]\n",
        " [ 0.46014272]]\n",
        "qPrime: [[-0.41203628]\n",
        " [-0.4879646 ]\n",
        " [-0.54938171]]\n",
        "theta1: [[-1.04719755  1.70453944]]\n",
        "theta2: [[ 0.78539816  2.75098561]]\n"
       ]
      }
     ],
     "prompt_number": 104
    },
    {
     "cell_type": "code",
     "collapsed": false,
     "input": [
      "# Powerball Inverse Kinematics Test:\n",
      "reload(kf)\n",
      "kf.ikine(H06, jointAngles)"
     ],
     "language": "python",
     "metadata": {},
     "outputs": [
      {
       "output_type": "stream",
       "stream": "stdout",
       "text": [
        "dx: [[-19.4276043 ]\n",
        " [-30.25670101]\n",
        " [ 65.81869214]]\n",
        "dElbow is: [[34]\n",
        " [38]\n",
        " [15]]\n",
        "dElbowNorm is: 53.1507290637\n",
        "temp is: 3.05499686809\n",
        "thIK: [[ 0.          0.          0.          0.          0.          0.          0.\n",
        "   0.        ]\n",
        " [ 0.          0.          0.          0.          0.          0.          0.\n",
        "   0.        ]\n",
        " [ 3.05499687  3.05499687  3.05499687  3.05499687 -3.05499687 -3.05499687\n",
        "  -3.05499687 -3.05499687]\n",
        " [ 0.          0.          0.          0.          0.          0.          0.\n",
        "   0.        ]\n",
        " [ 0.          0.          0.          0.          0.          0.          0.\n",
        "   0.        ]\n",
        " [ 0.          0.          0.          0.          0.          0.          0.\n",
        "   0.        ]\n",
        " [ 2.          2.          2.          2.          0.          0.          0.\n",
        "   0.        ]]\n"
       ]
      }
     ],
     "prompt_number": 113
    },
    {
     "cell_type": "code",
     "collapsed": false,
     "input": [],
     "language": "python",
     "metadata": {},
     "outputs": []
    },
    {
     "cell_type": "code",
     "collapsed": false,
     "input": [
      "np.subtract(p, q, p)"
     ],
     "language": "python",
     "metadata": {},
     "outputs": [
      {
       "metadata": {},
       "output_type": "pyout",
       "prompt_number": 111,
       "text": [
        "array([[1],\n",
        "       [2],\n",
        "       [0]])"
       ]
      }
     ],
     "prompt_number": 111
    },
    {
     "cell_type": "code",
     "collapsed": false,
     "input": [],
     "language": "python",
     "metadata": {},
     "outputs": []
    }
   ],
   "metadata": {}
  }
 ]
}