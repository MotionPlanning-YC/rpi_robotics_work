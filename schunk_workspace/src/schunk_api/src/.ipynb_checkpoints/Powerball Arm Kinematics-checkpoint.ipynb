{
 "metadata": {
  "name": ""
 },
 "nbformat": 3,
 "nbformat_minor": 0,
 "worksheets": [
  {
   "cells": [
    {
     "cell_type": "code",
     "collapsed": false,
     "input": [
      "import numpy as np\n",
      "import math\n",
      "import kinematic_functions as kf\n",
      "from powerball_constants import *"
     ],
     "language": "python",
     "metadata": {},
     "outputs": [],
     "prompt_number": 13
    },
    {
     "cell_type": "code",
     "collapsed": false,
     "input": [
      "jointAngles = [0.5, 0.5, 0.5, 0.5, 0.5, 0.5]"
     ],
     "language": "python",
     "metadata": {},
     "outputs": [],
     "prompt_number": 14
    },
    {
     "cell_type": "code",
     "collapsed": false,
     "input": [
      "R01 = kf.rot3D(JOINT_1_ROTATION_AXIS, jointAngles[0])\n",
      "R12 = kf.rot3D(JOINT_2_ROTATION_AXIS, jointAngles[1])\n",
      "R23 = kf.rot3D(JOINT_3_ROTATION_AXIS, jointAngles[2])\n",
      "R34 = kf.rot3D(JOINT_4_ROTATION_AXIS, jointAngles[3])\n",
      "R45 = kf.rot3D(JOINT_5_ROTATION_AXIS, jointAngles[4])\n",
      "R56 = kf.rot3D(JOINT_6_ROTATION_AXIS, jointAngles[5])"
     ],
     "language": "python",
     "metadata": {},
     "outputs": [],
     "prompt_number": 15
    },
    {
     "cell_type": "code",
     "collapsed": false,
     "input": [
      "H01 = np.matrix([ [R01[0, 0], R01[0, 1], R01[0, 2], P01[0, 0]], \\\n",
      "                  [R01[1, 0], R01[1, 1], R01[1, 2], P01[1, 0]], \\\n",
      "                  [R01[2, 0], R01[2, 1], R01[2, 2], P01[2, 0]], \\\n",
      "                  [0, 0, 0, 1] ])\n",
      "H12 = np.matrix([ [R12[0, 0], R12[0, 1], R12[0, 2], P12[0, 0]], \\\n",
      "                  [R12[1, 0], R12[1, 1], R12[1, 2], P12[1, 0]], \\\n",
      "                  [R12[2, 0], R12[2, 1], R12[2, 2], P12[2, 0]], \\\n",
      "                  [0, 0, 0, 1] ])\n",
      "H23 = np.matrix([ [R23[0, 0], R23[0, 1], R23[0, 2], P23[0, 0]], \\\n",
      "                  [R23[1, 0], R23[1, 1], R23[1, 2], P23[1, 0]], \\\n",
      "                  [R23[2, 0], R23[2, 1], R23[2, 2], P23[2, 0]], \\\n",
      "                  [0, 0, 0, 1] ])\n",
      "H34 = np.matrix([ [R34[0, 0], R34[0, 1], R34[0, 2], P34[0, 0]], \\\n",
      "                  [R34[1, 0], R34[1, 1], R34[1, 2], P34[1, 0]], \\\n",
      "                  [R34[2, 0], R34[2, 1], R34[2, 2], P34[2, 0]], \\\n",
      "                  [0, 0, 0, 1] ])\n",
      "H45 = np.matrix([ [R45[0, 0], R45[0, 1], R45[0, 2], P45[0, 0]], \\\n",
      "                  [R45[1, 0], R45[1, 1], R45[1, 2], P45[1, 0]], \\\n",
      "                  [R45[2, 0], R45[2, 1], R45[2, 2], P45[2, 0]], \\\n",
      "                  [0, 0, 0, 1] ])\n",
      "H56 = np.matrix([ [R56[0, 0], R56[0, 1], R56[0, 2], P56[0, 0]], \\\n",
      "                  [R56[1, 0], R56[1, 1], R56[1, 2], P56[1, 0]], \\\n",
      "                  [R56[2, 0], R56[2, 1], R56[2, 2], P56[2, 0]], \\\n",
      "                  [0, 0, 0, 1] ])\n",
      "H06 = H01*H12*H23*H34*H45*H56"
     ],
     "language": "python",
     "metadata": {},
     "outputs": [],
     "prompt_number": 16
    },
    {
     "cell_type": "code",
     "collapsed": false,
     "input": [
      "p = [1, 1, 1]\n",
      "k1 = [-0.8, 0.0, 0.6]\n",
      "k2 = [0.6, -0.8, 0.0]\n",
      "q = kf.rot3D(k1, -math.pi/3)*kf.rot3D(k2, math.pi/4)*np.matrix(p).T\n",
      "q = [q[0, 0], q[1, 0], q[2, 0]]"
     ],
     "language": "python",
     "metadata": {},
     "outputs": [],
     "prompt_number": 17
    },
    {
     "cell_type": "code",
     "collapsed": false,
     "input": [
      "reload(kf)\n",
      "kf.ikine(H06, 1)"
     ],
     "language": "python",
     "metadata": {},
     "outputs": [
      {
       "output_type": "stream",
       "stream": "stdout",
       "text": [
        "thIK: \n",
        "[[0, 0, 0, 0, 0, 0, 0, 0], [0, 0, 0, 0, 0, 0, 0, 0], [0, 0, 0, 0, 0, 0, 0, 0], [0, 0, 0, 0, 0, 0, 0, 0], [0, 0, 0, 0, 0, 0, 0, 0], [0, 0, 0, 0, 0, 0, 0, 0], [0, 0, 0, 0, 0, 0, 0, 0]]\n",
        "dx: [-19.427604299994428, -30.25670100835012, 65.818692141777959]\n",
        "dElbow is: [34.153346534132616, 38.301410655657676, -189.1033024756149]\n",
        "dElbowNorm is: 195.942614418\n",
        "temp is: 2.54928700674\n",
        "thIK: [[0, 0, 0, 0, 0, 0, 0, 0], [0, 0, 0, 0, 0, 0, 0, 0], [2.549287006742065, 2.549287006742065, 2.549287006742065, 2.549287006742065, -2.549287006742065, -2.549287006742065, -2.549287006742065, -2.549287006742065], [0, 0, 0, 0, 0, 0, 0, 0], [0, 0, 0, 0, 0, 0, 0, 0], [0, 0, 0, 0, 0, 0, 0, 0], [2, 2, 2, 2, 0, 0, 0, 0]]\n",
        "elbowUpPVector: [-170.27399643994417, 0.0, 96.955011635539648]\n",
        "elbowDownPVector: [170.27399643994417, 0.0, 96.955011635539648]\n",
        "normP: [-0.86899931  0.          0.4948133 ]\n",
        "normQ: [ 0.1743028   0.19547259 -0.96509533]\n",
        "normK1: [ 0.  0.  1.]\n",
        "normK2: [ 0.  1.  0.]\n",
        "temp is: [[ 1.  0.]\n",
        " [ 0.  1.]]\n",
        "rhsNum is: -0.965095331802\n",
        "rhsDen is: 0.0\n",
        "alphaBeta is: [[-0.96509533]\n",
        " [ 0.        ]]\n",
        "alpha is: -0.965095331802\n",
        "beta is: 0.0\n",
        "denominator is: 0.931408999465\n",
        "2 solutions found!\n",
        "gamma1: 0.261898836452\n",
        "gamma2: -0.261898836452\n",
        "normP: [ 0.1743028   0.19547259 -0.96509533]\n",
        "normQ: [-0.26189884  0.         -0.96509533]\n",
        "normK: [ 0.  0.  1.]\n",
        "normP: [ 0.1743028   0.19547259 -0.96509533]\n",
        "normQ: [ 0.26189884  0.         -0.96509533]\n",
        "normK: [ 0.  0.  1.]\n",
        "normP: [-0.86899931  0.          0.4948133 ]\n",
        "normQ: [-0.26189884  0.         -0.96509533]\n",
        "normK: [ 0.  1.  0.]\n",
        "normP: [-0.86899931  0.          0.4948133 ]\n",
        "normQ: [ 0.26189884  0.         -0.96509533]\n",
        "normK: [ 0.  1.  0.]\n",
        "normP: [ 0.86899931  0.          0.4948133 ]\n",
        "normQ: [ 0.1743028   0.19547259 -0.96509533]\n",
        "normK1: [ 0.  0.  1.]\n",
        "normK2: [ 0.  1.  0.]\n",
        "temp is: [[ 1.  0.]\n",
        " [ 0.  1.]]\n",
        "rhsNum is: -0.965095331802\n",
        "rhsDen is: 0.0\n",
        "alphaBeta is: [[-0.96509533]\n",
        " [ 0.        ]]\n",
        "alpha is: -0.965095331802\n",
        "beta is: 0.0\n",
        "denominator is: 0.931408999465\n",
        "2 solutions found!\n",
        "gamma1: 0.261898836452\n",
        "gamma2: -0.261898836452\n",
        "normP: [ 0.1743028   0.19547259 -0.96509533]\n",
        "normQ: [-0.26189884  0.         -0.96509533]\n",
        "normK: [ 0.  0.  1.]\n",
        "normP: [ 0.1743028   0.19547259 -0.96509533]\n",
        "normQ: [ 0.26189884  0.         -0.96509533]\n",
        "normK: [ 0.  0.  1.]\n",
        "normP: [ 0.86899931  0.          0.4948133 ]\n",
        "normQ: [-0.26189884  0.         -0.96509533]\n",
        "normK: [ 0.  1.  0.]\n",
        "normP: [ 0.86899931  0.          0.4948133 ]\n",
        "normQ: [ 0.26189884  0.         -0.96509533]\n",
        "normK: [ 0.  1.  0.]\n",
        "elbowUpSolution: [2, [-2.299006511606976, 1.8234271093713603], [0.842586141982817, 2.3534054913759017]]\n",
        "elbowDownSolution: [2, [-2.299006511606976, 2.3534054913759017], [0.842586141982817, 1.8234271093713603]]\n"
       ]
      }
     ],
     "prompt_number": 26
    },
    {
     "cell_type": "code",
     "collapsed": false,
     "input": [],
     "language": "python",
     "metadata": {},
     "outputs": []
    }
   ],
   "metadata": {}
  }
 ]
}