{
 "metadata": {
  "name": ""
 },
 "nbformat": 3,
 "nbformat_minor": 0,
 "worksheets": [
  {
   "cells": [
    {
     "cell_type": "code",
     "collapsed": false,
     "input": [
      "import numpy as np\n",
      "import math\n",
      "import kinematic_functions as kf\n",
      "from powerball_constants import *"
     ],
     "language": "python",
     "metadata": {},
     "outputs": [],
     "prompt_number": 19
    },
    {
     "cell_type": "code",
     "collapsed": false,
     "input": [
      "jointAngles = [0.5, 0.5, 0.5, 0.5, 0.5, 0.5]"
     ],
     "language": "python",
     "metadata": {},
     "outputs": [],
     "prompt_number": 20
    },
    {
     "cell_type": "code",
     "collapsed": false,
     "input": [
      "R01 = kf.rot3D(JOINT_1_ROTATION_AXIS, jointAngles[0])\n",
      "R12 = kf.rot3D(JOINT_2_ROTATION_AXIS, jointAngles[1])\n",
      "R23 = kf.rot3D(JOINT_3_ROTATION_AXIS, jointAngles[2])\n",
      "R34 = kf.rot3D(JOINT_4_ROTATION_AXIS, jointAngles[3])\n",
      "R45 = kf.rot3D(JOINT_5_ROTATION_AXIS, jointAngles[4])\n",
      "R56 = kf.rot3D(JOINT_6_ROTATION_AXIS, jointAngles[5])"
     ],
     "language": "python",
     "metadata": {},
     "outputs": [],
     "prompt_number": 21
    },
    {
     "cell_type": "code",
     "collapsed": false,
     "input": [
      "H01 = np.matrix([ [R01[0, 0], R01[0, 1], R01[0, 2], P01[0, 0]], \\\n",
      "                  [R01[1, 0], R01[1, 1], R01[1, 2], P01[1, 0]], \\\n",
      "                  [R01[2, 0], R01[2, 1], R01[2, 2], P01[2, 0]], \\\n",
      "                  [0, 0, 0, 1] ])\n",
      "H12 = np.matrix([ [R12[0, 0], R12[0, 1], R12[0, 2], P12[0, 0]], \\\n",
      "                  [R12[1, 0], R12[1, 1], R12[1, 2], P12[1, 0]], \\\n",
      "                  [R12[2, 0], R12[2, 1], R12[2, 2], P12[2, 0]], \\\n",
      "                  [0, 0, 0, 1] ])\n",
      "H23 = np.matrix([ [R23[0, 0], R23[0, 1], R23[0, 2], P23[0, 0]], \\\n",
      "                  [R23[1, 0], R23[1, 1], R23[1, 2], P23[1, 0]], \\\n",
      "                  [R23[2, 0], R23[2, 1], R23[2, 2], P23[2, 0]], \\\n",
      "                  [0, 0, 0, 1] ])\n",
      "H34 = np.matrix([ [R34[0, 0], R34[0, 1], R34[0, 2], P34[0, 0]], \\\n",
      "                  [R34[1, 0], R34[1, 1], R34[1, 2], P34[1, 0]], \\\n",
      "                  [R34[2, 0], R34[2, 1], R34[2, 2], P34[2, 0]], \\\n",
      "                  [0, 0, 0, 1] ])\n",
      "H45 = np.matrix([ [R45[0, 0], R45[0, 1], R45[0, 2], P45[0, 0]], \\\n",
      "                  [R45[1, 0], R45[1, 1], R45[1, 2], P45[1, 0]], \\\n",
      "                  [R45[2, 0], R45[2, 1], R45[2, 2], P45[2, 0]], \\\n",
      "                  [0, 0, 0, 1] ])\n",
      "H56 = np.matrix([ [R56[0, 0], R56[0, 1], R56[0, 2], P56[0, 0]], \\\n",
      "                  [R56[1, 0], R56[1, 1], R56[1, 2], P56[1, 0]], \\\n",
      "                  [R56[2, 0], R56[2, 1], R56[2, 2], P56[2, 0]], \\\n",
      "                  [0, 0, 0, 1] ])\n",
      "H06 = H01*H12*H23*H34*H45*H56"
     ],
     "language": "python",
     "metadata": {},
     "outputs": [],
     "prompt_number": 22
    },
    {
     "cell_type": "code",
     "collapsed": false,
     "input": [],
     "language": "python",
     "metadata": {},
     "outputs": []
    }
   ],
   "metadata": {}
  }
 ]
}