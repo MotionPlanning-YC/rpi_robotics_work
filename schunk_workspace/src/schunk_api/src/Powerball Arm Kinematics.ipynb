{
 "metadata": {
  "name": ""
 },
 "nbformat": 3,
 "nbformat_minor": 0,
 "worksheets": [
  {
   "cells": [
    {
     "cell_type": "code",
     "collapsed": false,
     "input": [
      "import numpy as np\n",
      "import math\n",
      "import kinematic_functions as kf\n",
      "from powerball_constants import *"
     ],
     "language": "python",
     "metadata": {},
     "outputs": [],
     "prompt_number": 1
    },
    {
     "cell_type": "code",
     "collapsed": false,
     "input": [
      "jointAngles = [0.5, 0.5, 0.5, 0.5, 0.5, 0.5]"
     ],
     "language": "python",
     "metadata": {},
     "outputs": [],
     "prompt_number": 2
    },
    {
     "cell_type": "code",
     "collapsed": false,
     "input": [
      "R01 = kf.rot3D(JOINT_1_ROTATION_AXIS, jointAngles[0])\n",
      "R12 = kf.rot3D(JOINT_2_ROTATION_AXIS, jointAngles[1])\n",
      "R23 = kf.rot3D(JOINT_3_ROTATION_AXIS, jointAngles[2])\n",
      "R34 = kf.rot3D(JOINT_4_ROTATION_AXIS, jointAngles[3])\n",
      "R45 = kf.rot3D(JOINT_5_ROTATION_AXIS, jointAngles[4])\n",
      "R56 = kf.rot3D(JOINT_6_ROTATION_AXIS, jointAngles[5])"
     ],
     "language": "python",
     "metadata": {},
     "outputs": [],
     "prompt_number": 3
    },
    {
     "cell_type": "code",
     "collapsed": false,
     "input": [
      "H01 = np.matrix([ [R01[0, 0], R01[0, 1], R01[0, 2], P01[0, 0]], \\\n",
      "                  [R01[1, 0], R01[1, 1], R01[1, 2], P01[1, 0]], \\\n",
      "                  [R01[2, 0], R01[2, 1], R01[2, 2], P01[2, 0]], \\\n",
      "                  [0, 0, 0, 1] ])\n",
      "H12 = np.matrix([ [R12[0, 0], R12[0, 1], R12[0, 2], P12[0, 0]], \\\n",
      "                  [R12[1, 0], R12[1, 1], R12[1, 2], P12[1, 0]], \\\n",
      "                  [R12[2, 0], R12[2, 1], R12[2, 2], P12[2, 0]], \\\n",
      "                  [0, 0, 0, 1] ])\n",
      "H23 = np.matrix([ [R23[0, 0], R23[0, 1], R23[0, 2], P23[0, 0]], \\\n",
      "                  [R23[1, 0], R23[1, 1], R23[1, 2], P23[1, 0]], \\\n",
      "                  [R23[2, 0], R23[2, 1], R23[2, 2], P23[2, 0]], \\\n",
      "                  [0, 0, 0, 1] ])\n",
      "H34 = np.matrix([ [R34[0, 0], R34[0, 1], R34[0, 2], P34[0, 0]], \\\n",
      "                  [R34[1, 0], R34[1, 1], R34[1, 2], P34[1, 0]], \\\n",
      "                  [R34[2, 0], R34[2, 1], R34[2, 2], P34[2, 0]], \\\n",
      "                  [0, 0, 0, 1] ])\n",
      "H45 = np.matrix([ [R45[0, 0], R45[0, 1], R45[0, 2], P45[0, 0]], \\\n",
      "                  [R45[1, 0], R45[1, 1], R45[1, 2], P45[1, 0]], \\\n",
      "                  [R45[2, 0], R45[2, 1], R45[2, 2], P45[2, 0]], \\\n",
      "                  [0, 0, 0, 1] ])\n",
      "H56 = np.matrix([ [R56[0, 0], R56[0, 1], R56[0, 2], P56[0, 0]], \\\n",
      "                  [R56[1, 0], R56[1, 1], R56[1, 2], P56[1, 0]], \\\n",
      "                  [R56[2, 0], R56[2, 1], R56[2, 2], P56[2, 0]], \\\n",
      "                  [0, 0, 0, 1] ])\n",
      "H06 = H01*H12*H23*H34*H45*H56"
     ],
     "language": "python",
     "metadata": {},
     "outputs": [],
     "prompt_number": 4
    },
    {
     "cell_type": "code",
     "collapsed": false,
     "input": [
      "p = [1, 1, 1]\n",
      "k1 = [-0.8, 0.0, 0.6]\n",
      "k2 = [0.6, -0.8, 0.0]\n",
      "q = kf.rot3D(k1, -math.pi/3)*kf.rot3D(k2, math.pi/4)*np.matrix(p).T\n",
      "q = [q[0, 0], q[1, 0], q[2, 0]]"
     ],
     "language": "python",
     "metadata": {},
     "outputs": [],
     "prompt_number": 5
    },
    {
     "cell_type": "code",
     "collapsed": false,
     "input": [
      "reload(kf)\n",
      "kf.ikine(H06, jointAngles)"
     ],
     "language": "python",
     "metadata": {},
     "outputs": [
      {
       "ename": "NameError",
       "evalue": "name 'H06' is not defined",
       "output_type": "pyerr",
       "traceback": [
        "\u001b[0;31m---------------------------------------------------------------------------\u001b[0m\n\u001b[0;31mNameError\u001b[0m                                 Traceback (most recent call last)",
        "\u001b[0;32m<ipython-input-2-f94be2ebe9d2>\u001b[0m in \u001b[0;36m<module>\u001b[0;34m()\u001b[0m\n\u001b[1;32m      1\u001b[0m \u001b[0mreload\u001b[0m\u001b[0;34m(\u001b[0m\u001b[0mkf\u001b[0m\u001b[0;34m)\u001b[0m\u001b[0;34m\u001b[0m\u001b[0m\n\u001b[0;32m----> 2\u001b[0;31m \u001b[0mkf\u001b[0m\u001b[0;34m.\u001b[0m\u001b[0mikine\u001b[0m\u001b[0;34m(\u001b[0m\u001b[0mH06\u001b[0m\u001b[0;34m,\u001b[0m \u001b[0mjointAngles\u001b[0m\u001b[0;34m)\u001b[0m\u001b[0;34m\u001b[0m\u001b[0m\n\u001b[0m",
        "\u001b[0;31mNameError\u001b[0m: name 'H06' is not defined"
       ]
      }
     ],
     "prompt_number": 2
    },
    {
     "cell_type": "code",
     "collapsed": false,
     "input": [
      "JOINT_1_ROTATION_AXIS"
     ],
     "language": "python",
     "metadata": {},
     "outputs": [
      {
       "metadata": {},
       "output_type": "pyout",
       "prompt_number": 3,
       "text": [
        "array([[0],\n",
        "       [0],\n",
        "       [1]])"
       ]
      }
     ],
     "prompt_number": 3
    },
    {
     "cell_type": "code",
     "collapsed": false,
     "input": [
      "x = np.array([[1, 2, 3]]).T"
     ],
     "language": "python",
     "metadata": {},
     "outputs": [],
     "prompt_number": 4
    },
    {
     "cell_type": "code",
     "collapsed": false,
     "input": [
      "x[3, 0]"
     ],
     "language": "python",
     "metadata": {},
     "outputs": [
      {
       "ename": "IndexError",
       "evalue": "index 3 is out of bounds for axis 0 with size 3",
       "output_type": "pyerr",
       "traceback": [
        "\u001b[0;31m---------------------------------------------------------------------------\u001b[0m\n\u001b[0;31mIndexError\u001b[0m                                Traceback (most recent call last)",
        "\u001b[0;32m<ipython-input-8-f85555660c63>\u001b[0m in \u001b[0;36m<module>\u001b[0;34m()\u001b[0m\n\u001b[0;32m----> 1\u001b[0;31m \u001b[0mx\u001b[0m\u001b[0;34m[\u001b[0m\u001b[0;36m3\u001b[0m\u001b[0;34m,\u001b[0m \u001b[0;36m0\u001b[0m\u001b[0;34m]\u001b[0m\u001b[0;34m\u001b[0m\u001b[0m\n\u001b[0m",
        "\u001b[0;31mIndexError\u001b[0m: index 3 is out of bounds for axis 0 with size 3"
       ]
      }
     ],
     "prompt_number": 8
    },
    {
     "cell_type": "code",
     "collapsed": false,
     "input": [
      "reload(kf)\n",
      "kf.rot3D(x, math.pi)"
     ],
     "language": "python",
     "metadata": {},
     "outputs": [
      {
       "metadata": {},
       "output_type": "pyout",
       "prompt_number": 11,
       "text": [
        "matrix([[-25.,   4.,   6.],\n",
        "        [  4., -19.,  12.],\n",
        "        [  6.,  12.,  -9.]])"
       ]
      }
     ],
     "prompt_number": 11
    },
    {
     "cell_type": "code",
     "collapsed": false,
     "input": [],
     "language": "python",
     "metadata": {},
     "outputs": []
    },
    {
     "cell_type": "code",
     "collapsed": false,
     "input": [
      "kf.kcross(x)"
     ],
     "language": "python",
     "metadata": {},
     "outputs": [
      {
       "metadata": {},
       "output_type": "pyout",
       "prompt_number": 10,
       "text": [
        "matrix([[ 0., -3.,  2.],\n",
        "        [ 3.,  0., -1.],\n",
        "        [-2.,  1.,  0.]])"
       ]
      }
     ],
     "prompt_number": 10
    },
    {
     "cell_type": "code",
     "collapsed": false,
     "input": [],
     "language": "python",
     "metadata": {},
     "outputs": []
    }
   ],
   "metadata": {}
  }
 ]
}